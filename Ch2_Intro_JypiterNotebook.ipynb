{
 "cells": [
  {
   "cell_type": "markdown",
   "metadata": {},
   "source": [
    "# Chapter 2 - Introduction to Jupyter Notebook\n",
    "In this tutorial we will use Jupyter Notebook as an interface for `Python`, therefore a quick intro is given.  If you know are familiar with Jupyter Notebook or Jupyter Lab you can skip this tutorial.  If you want to learn more, there are some useful __Resources__ at the bottom of this page.\n",
    "\n",
    "***\n",
    "\n",
    "## What is Jupyter Notebook?\n",
    "\n",
    "<img src='./figures/jupyter_logo.png' width=200>\n",
    "\n",
    "`Jupyter` is a project to develop open-source software, and `Jupyter` __Notebook__ is their first web-based and user-friendly interface between `Python` and the user.  The new version is _JupyterLab_, but we will use __Notebook__ as the `mybinder` project uses it.\n",
    "\n",
    "`Jupyter` __Notebook__ is more than interactive coding - meaning you write and execute part of your code and receive immediate response. `Jupyter` __Notebook__ also allows you to add formatted text, equations and figures - this let you keep code, info, and results, including figures, neatly organized and visualize them on the same page. It also allows others to reproduce your results. \n",
    "\n",
    "<img src='./figures/JupyterNotebook_example.png'>\n",
    "\n",
    "***\n",
    "\n",
    "## Jupyter Notebook Elements\n",
    "\n",
    "__The dashboard:__ The main page you see in your browser when you open `Jupyter` __Notebook__, and it lists your files and directories. Clicking on a file will open it on a new tab. (__Note__ that `Jupyter` __Notebook__ `Python` files have the extension .ipynb)\n",
    "\n",
    "<img src=\"./figures/Jupyter_Notebook_Dashboard.png\" width=700>\n",
    "\n",
    "__Top menu__ (See below): Contains all commands you need to work on `Jupyter` __Notebook__ (we'll talk about the relevant ones below)\n",
    "\n",
    "__Icon menu:__ It is on top of your script. It provides quick access to commands.\n",
    "\n",
    "<img src=\"./figures/Jupyter_Notebook_Menus.png\" width=800 align=\"center\">\n",
    "\n",
    "***\n",
    "\n",
    "## The Basics\n",
    "\n",
    "### Cells\n",
    "Scripts are divided into cells - code lines that are ran (executed) as a unit and will return the output or results from your code immediately. Cells are not independent of the rest: if you assigned or modified variables in a cell, you do have access to those in following ones.\n",
    "\n",
    "To run a cell you have few options:\n",
    "- Press __Shift-Return__ (run cell and move to the next one) or __Command-Return__ (run cell and stay in the current oone) \n",
    "- Click the Run __[>|]__ icon on the Icon menu\n",
    "- Go to the Top menu -> Cells -> Run Cells\n",
    "\n",
    "The selected cell is highlighted by a thick color side bar, and to edit the cell, you'll have to double click on it and a color outline will appear around the cell. \n",
    "\n",
    "\n",
    "### Types of cells: Code and Markdown\n",
    "__Markdown__ cells contain formatted text, like this cell, while __Code__ cells contain code to be executed and in many cases return an output. The text within a __Code__ cell shows different colors, depending on the function (operation, variable, etc).\n",
    "\n",
    "To change the type of cell:\n",
    "- On the __Icon menu__: in the middle (or the next to last element if running locally on your own computer) of this menu there is a drop-down menu that shows the type and allows you to change it\n",
    "- Press __Esc__ and then __m__ (to change to Markdown type) or __y__ (to change to Code type)\n",
    "\n",
    "Pressing __Esc__ allows you access to keyboard commands (you can see them all from the Top Menu -> Help -> Keyboard Shortcuts).\n",
    "\n",
    "### Copy-pasting, adding and deleting cells\n",
    "\n",
    "When you run the last cell using __Shift-Return__, a new cell is added automoatically bellow, but sometimes we need to add a cell in between cells, delete one, or make a copy of the current one. For this, you have two options:\n",
    "\n",
    "- Click on the __Icon menu__: __+__ for adding a cell, __scissors__ to cut, __( )__ to copy, and __clipboard__ to paste\n",
    "- Keyboard commands: press __Esc__ and then: __a__ or __b__ for inserting a cell (above or below), __d d__ to delete a cell, __c__ to copy, __x__ to cut, and __p__ to paste cell below. \n",
    "\n",
    "***\n",
    "__Test this:__ Double click in the next cell to edit mode and then run the cell using one of the options above. Also try changing between __Markdown__ and __Code__ modes, re-running the cell to see the differences."
   ]
  },
  {
   "cell_type": "code",
   "execution_count": null,
   "metadata": {},
   "outputs": [],
   "source": [
    "## __Test  this:__\n",
    "### change the type of this cell between __Markdown__ and __Code__, and then run it to see the difference\n",
    "myvar = 5 + 6\n",
    "print(myvar)"
   ]
  },
  {
   "cell_type": "markdown",
   "metadata": {},
   "source": [
    "***\n",
    "## Housekeeping\n",
    "\n",
    "### Saving your work\n",
    "If you're working on a `binder` in the cloud, you might want to save any file you modify locally for further reference. To do so you could:\n",
    "\n",
    "- On the Icon Menu, somewhere in the middle, there is a Download button\n",
    "- In the Top Menu -> File -> Download as to make a local copy.\n",
    "\n",
    "### The Kernel\n",
    "\n",
    "Sometimes there is need to interrupt a running or frozen code. In this case you'll need to restart the __kernel__ (Top menu -> Kernel -> Restart) and then run all the cells again as it deletes all variables in memory.\n",
    "\n",
    "__Kernel__ is the process, individual for each notebook, that is running your code, interacting directly with `Python`.\n",
    "***"
   ]
  },
  {
   "cell_type": "markdown",
   "metadata": {},
   "source": [
    "## Resources\n",
    "[Jupyter Notebook Documentation](https://jupyter-notebook.readthedocs.io/en/stable/)\n",
    "\n",
    "[The Official Jupyter and Jupyter Notebook/Lab page](https://jupyter.org/)\n",
    "\n",
    "_Two useful tutorials:_\n",
    "\n",
    "[One, on text mode, from Real Phyton](https://realpython.com/jupyter-notebook-introduction/)\n",
    "\n",
    "[Another on video mode](https://www.youtube.com/watch?v=HW29067qVWk)\n",
    "\n",
    "A cheat sheet is always a good reference: [Cheat Sheet](https://datacamp-community-prod.s3.amazonaws.com/48093c40-5303-45f4-bbf9-0c96c0133c40)"
   ]
  },
  {
   "cell_type": "code",
   "execution_count": null,
   "metadata": {},
   "outputs": [],
   "source": []
  }
 ],
 "metadata": {
  "kernelspec": {
   "display_name": "Python 3",
   "language": "python",
   "name": "python3"
  },
  "language_info": {
   "codemirror_mode": {
    "name": "ipython",
    "version": 3
   },
   "file_extension": ".py",
   "mimetype": "text/x-python",
   "name": "python",
   "nbconvert_exporter": "python",
   "pygments_lexer": "ipython3",
   "version": "3.7.10"
  }
 },
 "nbformat": 4,
 "nbformat_minor": 4
}
