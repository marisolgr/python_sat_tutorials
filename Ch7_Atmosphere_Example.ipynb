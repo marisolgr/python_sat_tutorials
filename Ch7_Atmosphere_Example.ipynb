{
 "cells": [
  {
   "cell_type": "markdown",
   "metadata": {},
   "source": [
    "# Chapter 7 - Example: Atmospheric Data \n",
    "### Analyze monthy wind at 10m for a selected region\n",
    "\n",
    "In this chapter, we exemplify the use of an atmospheric/climate data set, the reanalysis dataset ERA-5, to analyze change in wind vectors at 10m. We characterize its variability over a given region, plot the field and calculate linear trends.\n",
    "\n",
    "[ERA-5 (ECMWF)](https://registry.opendata.aws/ecmwf-era5/) reanalysis incorporates satellite and in-situ data, and its output variables include ocean, land and atmospheric ones. Therefore, this script can be easily modified for other data. "
   ]
  },
  {
   "cell_type": "code",
   "execution_count": null,
   "metadata": {},
   "outputs": [],
   "source": [
    "# Libraries\n",
    "import warnings\n",
    "\n",
    "warnings.simplefilter(\"ignore\")  # filter some warning messages\n",
    "\n",
    "import os  # library to interact with the operating system\n",
    "from calendar import (\n",
    "    month_abbr,  # function that gives you the abbreviated name of a month\n",
    ")\n",
    "from calendar import monthrange  # gives the number of day in a month\n",
    "\n",
    "import dask\n",
    "import fsspec\n",
    "import hvplot.pandas\n",
    "import hvplot.xarray\n",
    "import matplotlib.pyplot as plt\n",
    "import numpy as np\n",
    "import pandas as pd\n",
    "import s3fs\n",
    "import xarray as xr\n",
    "from dask.distributed import Client, performance_report, progress\n",
    "\n",
    "xr.set_options(keep_attrs=True)"
   ]
  },
  {
   "cell_type": "code",
   "execution_count": null,
   "metadata": {},
   "outputs": [],
   "source": [
    "import s3fs\n",
    "\n",
    "\n",
    "@dask.delayed\n",
    "def s3open(path):\n",
    "    fs = s3fs.S3FileSystem(\n",
    "        anon=True, default_fill_cache=False, config_kwargs={\"max_pool_connections\": 20}\n",
    "    )\n",
    "    return s3fs.S3Map(path, s3=fs)"
   ]
  },
  {
   "cell_type": "markdown",
   "metadata": {},
   "source": [
    "***\n",
    "## For this example we select a region, and also a specific month and a range of years to analyze"
   ]
  },
  {
   "cell_type": "code",
   "execution_count": null,
   "metadata": {},
   "outputs": [],
   "source": [
    "# Select region by defining latitude and longitude range. ERA-5 data has a 1/4 degree resolution.\n",
    "latr = [\n",
    "    39,\n",
    "    40,\n",
    "]  # Latitude range. Make sure lat1 > lat2 since no test is done below to simplify the code. resolution 0.25 degrees\n",
    "lonr = [-125, -123]  # lon1 > lon2. and use the range -180 : 180\n",
    "# time selection\n",
    "mon = 5  # month to analyze\n",
    "start_year = 1979  # you can select the initial year. by default, we set it to the start year of ERA5 dataset\n",
    "end_year = 2020  # you can select the final year. by default, we set it to the end year of ERA5 dataset\n",
    "\n",
    "speed_attributes = {\n",
    "    \"long_name\": \"10 metre wind speed\",\n",
    "    \"nameCDM\": \"10_metre_wind_speed_surface\",\n",
    "    \"nameECMWF\": \"10 metre wind speed\",\n",
    "    \"product_type\": \"analysis\",\n",
    "    \"shortNameECMWF\": \"10m\",\n",
    "    \"standard_name\": \"wind_speed\",\n",
    "    \"units\": \"m s**-1\",\n",
    "}"
   ]
  },
  {
   "cell_type": "markdown",
   "metadata": {},
   "source": [
    "***\n",
    "## Acquire data from the AWS cloud\n",
    "\n",
    "In this case, files are stored in a different format than SST. Now they are monthly files (of daily data) organized by yearly folders. Then, files have to be accessed individually."
   ]
  },
  {
   "cell_type": "code",
   "execution_count": null,
   "metadata": {
    "scrolled": true
   },
   "outputs": [],
   "source": [
    "%%time\n",
    "\n",
    "file_pattern = \"era5-pds/zarr/{year}/{month}/data/{var}.zarr/\"\n",
    "years = list(np.arange(start_year, end_year + 1, 1))\n",
    "months = [\"01\", \"02\", \"03\", \"04\", \"05\", \"06\", \"07\", \"08\", \"09\", \"10\", \"11\", \"12\"]\n",
    "var_names = [\"northward_wind_at_10_metres\", \"eastward_wind_at_10_metres\"]\n",
    "\n",
    "# create empty list that can be used to store data\n",
    "ds_era = []\n",
    "\n",
    "# loop over variables to read\n",
    "for var in var_names:\n",
    "    # Get files\n",
    "    files_mapper = [\n",
    "        s3open(file_pattern.format(year=year, month=month, var=var))\n",
    "        for year in years\n",
    "        for month in months\n",
    "    ]\n",
    "\n",
    "    # read in zarr data\n",
    "    ds = xr.open_mfdataset(\n",
    "        files_mapper,\n",
    "        engine=\"zarr\",\n",
    "        concat_dim=\"time0\",\n",
    "        combine=\"nested\",\n",
    "        coords=\"minimal\",\n",
    "        compat=\"override\",\n",
    "        parallel=True,\n",
    "    )\n",
    "\n",
    "    # re-order latitudes and resample to month\n",
    "    ds = ds.sortby(ds.lat)  # conform to lat -90 to 90\n",
    "\n",
    "    ds_month = ds.resample(time0=\"1M\").mean(dim=\"time0\")\n",
    "    ds_era.append(ds_month)\n",
    "\n",
    "ds_era = xr.merge(ds_era)\n",
    "\n",
    "# calculate the wind speed and add attributes to this new variable\n",
    "ds_era[\"wind_speed\"] = np.sqrt(\n",
    "    ds_era.northward_wind_at_10_metres ** 2 + ds_era.eastward_wind_at_10_metres ** 2\n",
    ")\n",
    "ds_era[\"wind_speed\"].attrs = speed_attributes"
   ]
  },
  {
   "cell_type": "code",
   "execution_count": null,
   "metadata": {},
   "outputs": [],
   "source": [
    "# Build a dataset from the selected data. not only a data array since we have 2 variables of the vector\n",
    "# mw10 = xr.Dataset(\n",
    "#    data_vars=dict(\n",
    "#        u10m=([\"time\", \"lat\", \"lon\"], u10_dt),\n",
    "#        v10m=([\"time\", \"lat\", \"lon\"], v10_dt),\n",
    "#    ),\n",
    "#    coords=dict(time=tdt, lat=vds.lat.values, lon=vds.lon.values - 360),\n",
    "#    attrs=vds.attrs,\n",
    "# )\n",
    "# Add a wind speed variable\n",
    "# mw10[\"wsp10m\"] = np.sqrt(mw10.u10m ** 2 + mw10.v10m ** 2)  # calculate wind speed\n",
    "# mw10.to_netcdf(\n",
    "#    \"ERA5_wind10m_mon\" + str(mon).zfill(2) + \".nc\"\n",
    "# )  # saving the file for a future use, so we don't have to get data again\n",
    "\n",
    "mw10 = ds_era.sel(\n",
    "    lat=slice(latr[0], latr[1]), lon=slice(lonr[0] + 360, lonr[1] + 360)\n",
    ")  # taking a peek\n",
    "\n",
    "mw10  # taking a peek"
   ]
  },
  {
   "cell_type": "markdown",
   "metadata": {},
   "source": [
    "***\n",
    "## Plotting the data\n",
    "\n",
    "As before, there is a simple way to plot the data for quick inspection, and also a way to make the plot ready for sharing or publication."
   ]
  },
  {
   "cell_type": "code",
   "execution_count": null,
   "metadata": {},
   "outputs": [],
   "source": [
    "# simple plot of data, using the matplotlib function quiver to plot vectors\n",
    "x, y = np.meshgrid(mw10.lon, mw10.lat)  # generate an lat/lon grid to plot the vectors\n",
    "plt.quiver(x, y, mw10.u10m[0, :, :], mw10.v10m[0, :, :])"
   ]
  },
  {
   "cell_type": "code",
   "execution_count": null,
   "metadata": {},
   "outputs": [],
   "source": [
    "# Now a more presentable plot\n",
    "from calendar import month_abbr\n",
    "\n",
    "import cartopy.crs as ccrs\n",
    "import cartopy.feature as cfeature\n",
    "from cartopy.mpl.ticker import LatitudeFormatter, LongitudeFormatter\n",
    "\n",
    "# Select a region of our data, giving it a margin\n",
    "margin = 0.5  # extra space for the plot\n",
    "region = np.array(\n",
    "    [[latr[0] - margin, latr[1] + margin], [lonr[0] - margin, lonr[1] + margin]]\n",
    ")  # numpy array that specifies the lat/lon boundaries of our selected region\n",
    "\n",
    "# Create and set the figure context\n",
    "fig = plt.figure(\n",
    "    figsize=(8, 5)\n",
    ")  # create a figure object, and assign it a variable name fig\n",
    "ax = plt.axes(\n",
    "    projection=ccrs.PlateCarree()\n",
    ")  # projection type - this one is easy to use\n",
    "ax.coastlines(resolution=\"50m\", linewidth=2, color=\"black\")\n",
    "ax.add_feature(cfeature.LAND, color=\"grey\", alpha=0.3)\n",
    "ax.set_extent(\n",
    "    [region[1, 0], region[1, 1], region[0, 0], region[0, 1]], crs=ccrs.PlateCarree()\n",
    ")\n",
    "ax.set_xticks(\n",
    "    [*np.arange(region[1, 0], region[1, 1] + 1, 1)], crs=ccrs.PlateCarree()\n",
    ")  # customize ticks and labels to longitude\n",
    "ax.set_yticks(\n",
    "    [*np.arange(region[0, 0], region[0, 1] + 1, 1)], crs=ccrs.PlateCarree()\n",
    ")  # customize ticks and labels to latitude\n",
    "ax.xaxis.set_major_formatter(LongitudeFormatter(zero_direction_label=True))\n",
    "ax.yaxis.set_major_formatter(LatitudeFormatter())\n",
    "\n",
    "# Plot average wind for the selected month, color is the wind speed\n",
    "plt.quiver(\n",
    "    x,\n",
    "    y,\n",
    "    mw10.northward_wind_at_10_metres[0, :, :],\n",
    "    mw10.eastward_wind_at_10_metres[0, :, :],\n",
    "    mw10.wind_speed[0, :, :],\n",
    "    cmap=\"jet\",\n",
    ")\n",
    "cbar = plt.colorbar()\n",
    "cbar.set_label(\"m/s\")  # color bar label\n",
    "plt.title(\n",
    "    \"Wind for \" + month_abbr[mon] + \" (\" + str(start_year) + \"-\" + str(end_year) + \")\"\n",
    ")\n",
    "# fig.savefig('filename') # save your figure by usinig the method .savefig. python recognized the format from the filename extension."
   ]
  },
  {
   "cell_type": "markdown",
   "metadata": {},
   "source": [
    "*** \n",
    "## To analyze the data in time, we select only one point in space. \n",
    "But if you want to analyze the entire field, you can:\n",
    "- Average spatially using .mean(axis=(1,2)) on the variables\n",
    "- Repeat the analysis for each point (using a `for` loop)\n",
    "- Use `xarray` methods to apply a function to the array"
   ]
  },
  {
   "cell_type": "code",
   "execution_count": null,
   "metadata": {},
   "outputs": [],
   "source": [
    "print(\"Latitude values: \", mw10.lat.values)\n",
    "print(\"Longitude values: \", mw10.lon.values)"
   ]
  },
  {
   "cell_type": "code",
   "execution_count": null,
   "metadata": {},
   "outputs": [],
   "source": [
    "# select a point from the range of latitude and longitude values above\n",
    "slat = 39  # selected latitude\n",
    "slon = -124  # selected longitude\n",
    "subset = mw10.sel(lat=slat, lon=slon + 360).load()  # load data so we can run analytics\n",
    "\n",
    "# calculate annual averages\n",
    "subset_year = subset.resample(time0=\"1Y\").mean(dim=\"time0\")\n",
    "\n",
    "subset"
   ]
  },
  {
   "cell_type": "code",
   "execution_count": null,
   "metadata": {},
   "outputs": [],
   "source": [
    "# Select data for an specific location, and do a simple plot of each variable\n",
    "plt.figure(figsize=(12, 8))\n",
    "\n",
    "# meridional wind change\n",
    "plt.subplot(2, 2, 1)\n",
    "plt.plot(subset.time0, subset.northward_wind_at_10_metres, \"bd-\", zorder=1)\n",
    "plt.plot(subset_year.time0, subset_year.northward_wind_at_10_metres, \"rd-\", zorder=2)\n",
    "plt.axhline(y=0, c=\"k\", alpha=0.4)\n",
    "plt.ylabel(\"Wind speed (m/s)\")\n",
    "plt.title(\"Meridional wind (v), Lat=\" + str(slat) + \", Lon=\" + str(slon))\n",
    "plt.grid(zorder=0)\n",
    "\n",
    "# zonal wind change\n",
    "plt.subplot(2, 2, 2)\n",
    "plt.plot(subset.time0, subset.eastward_wind_at_10_metres, \"go-\", zorder=1)\n",
    "plt.plot(subset_year.time0, subset_year.eastward_wind_at_10_metres, \"rd-\", zorder=3)\n",
    "plt.axhline(y=0, c=\"k\", alpha=0.4)\n",
    "plt.ylabel(\"Wind speed (m/s)\")\n",
    "plt.title(\"Zonal wind (u), Lat=\" + str(slat) + \", Lon=\" + str(slon))\n",
    "plt.grid(zorder=0)\n",
    "\n",
    "# wind speed change\n",
    "plt.subplot(2, 2, 3)\n",
    "plt.plot(subset.time0, subset.wind_speed, \"s-\", c=\"darkorange\", zorder=1)\n",
    "plt.plot(subset_year.time0, subset_year.wind_speed, \"rd-\", zorder=2)\n",
    "plt.axhline(y=0, c=\"k\", alpha=0.4)\n",
    "plt.ylabel(\"Wind speed (m/s)\")\n",
    "plt.title(\"Wind speed, Lat=\" + str(slat) + \", Lon=\" + str(slon))\n",
    "plt.grid(zorder=0)\n",
    "\n",
    "plt.tight_layout()"
   ]
  },
  {
   "cell_type": "markdown",
   "metadata": {},
   "source": [
    "***\n",
    "## Now, let's calculate the temporal trend on one of the wind variables, using a first degree linear regression "
   ]
  },
  {
   "cell_type": "code",
   "execution_count": null,
   "metadata": {},
   "outputs": [],
   "source": [
    "%%time\n",
    "results = subset.polyfit(dim='time0',deg=1)\n",
    "trend = xr.polyval(subset.time0,results)"
   ]
  },
  {
   "cell_type": "markdown",
   "metadata": {},
   "source": [
    "## Plot data again with trends"
   ]
  },
  {
   "cell_type": "code",
   "execution_count": null,
   "metadata": {},
   "outputs": [],
   "source": [
    "# Select data for an specific location, and do a simple plot of each variable\n",
    "plt.figure(figsize=(12,8))\n",
    "\n",
    "# meridional wind change\n",
    "plt.subplot(2,2,1)\n",
    "plt.plot(subset.time0,subset.northward_wind_at_10_metres, 'bd-', zorder=1)\n",
    "plt.plot(subset_year.time0,subset_year.northward_wind_at_10_metres, 'rd-',zorder=2)\n",
    "plt.plot(trend.time0,trend.northward_wind_at_10_metres_polyfit_coefficients, 'm',zorder=2,lw=4)\n",
    "plt.axhline(y=0,c='k', alpha=0.4)\n",
    "plt.ylabel('Wind speed (m/s)')\n",
    "plt.title('Meridional wind (v), Lat='+str(slat)+', Lon='+str(slon))\n",
    "plt.grid(zorder=0)\n",
    "\n",
    "# zonal wind change\n",
    "plt.subplot(2,2,2)\n",
    "plt.plot(subset.time0,subset.eastward_wind_at_10_metres, 'go-',zorder=1)\n",
    "plt.plot(subset_year.time0,subset_year.eastward_wind_at_10_metres, 'rd-',zorder=3)\n",
    "plt.plot(trend.time0,trend.eastward_wind_at_10_metres_polyfit_coefficients, 'm',zorder=2,lw=4)\n",
    "plt.axhline(y=0,c='k', alpha=0.4)\n",
    "plt.ylabel('Wind speed (m/s)')\n",
    "plt.title('Zonal wind (u), Lat='+str(slat)+', Lon='+str(slon))\n",
    "plt.grid(zorder=0)\n",
    "\n",
    "# wind speed change\n",
    "plt.subplot(2,2,3)\n",
    "plt.plot(subset.time0,subset.wind_speed, 's-',c='darkorange',zorder=1)\n",
    "plt.plot(subset_year.time0,subset_year.wind_speed, 'rd-',zorder=2)\n",
    "plt.plot(trend.time0,trend.wind_speed_polyfit_coefficients, 'm',zorder=2,lw=4)\n",
    "plt.axhline(y=0,c='k', alpha=0.4)\n",
    "plt.ylabel('Wind speed (m/s)')\n",
    "plt.title('Wind speed, Lat='+str(slat)+', Lon='+str(slon))\n",
    "plt.grid(zorder=0)\n",
    "\n",
    "plt.tight_layout()"
   ]
  },
  {
   "cell_type": "markdown",
   "metadata": {},
   "source": [
    "***\n",
    "# Resources\n",
    "**Data**\n",
    "- AWS [ERA-5 (ECMWF)](https://registry.opendata.aws/ecmwf-era5/) reanalysis data.\n",
    "This page also has links to other tutorials that use other libraries.\n",
    "- [List of data available](https://github.com/planet-os/notebooks/blob/master/aws/era5-pds.md) on ERA5 and details on how the files are organized.\n",
    "- Google Earth Engine ERA-5 data. [[Monthly]](https://developers.google.com/earth-engine/datasets/catalog/ECMWF_ERA5_MONTHLY#bands) [[Daily]](https://developers.google.com/earth-engine/datasets/catalog/ECMWF_ERA5_DAILY).\n",
    "\n",
    "**More on the libraries:**\n",
    "- [xarray apply](https://www.programcreek.com/python/example/123575/xarray.apply_ufunc) Examples on how to apply a function to an xarray structure\n",
    "- [sckit-learn (sklearn)](https://scikit-learn.org/stable/) a library for machine learning functions\n",
    "- [statsmodels](https://www.statsmodels.org/stable/user-guide.html) a library to calculalte statistical models.\n",
    "\n",
    "\n"
   ]
  },
  {
   "cell_type": "code",
   "execution_count": null,
   "metadata": {},
   "outputs": [],
   "source": []
  }
 ],
 "metadata": {
  "kernelspec": {
   "display_name": "Python 3",
   "language": "python",
   "name": "python3"
  },
  "language_info": {
   "codemirror_mode": {
    "name": "ipython",
    "version": 3
   },
   "file_extension": ".py",
   "mimetype": "text/x-python",
   "name": "python",
   "nbconvert_exporter": "python",
   "pygments_lexer": "ipython3",
   "version": "3.7.10"
  }
 },
 "nbformat": 4,
 "nbformat_minor": 4
}
