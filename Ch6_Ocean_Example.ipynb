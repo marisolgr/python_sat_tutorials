{
 "cells": [
  {
   "cell_type": "markdown",
   "metadata": {},
   "source": [
    "# Chapter 6 - Example: Ocean Data \n",
    "###  Ocean area with temperature above a given threshold\n",
    "\n",
    "In this chapter we exemplify the use of Sea Surface Temperature (SST) data in the cloud. \n",
    "\n",
    "This example analyze a time series from an area of the ocean or a point. If an area, averages SST values. Then it analyze the time series to assess when SST is above a given threshold. This could be used to study marine heatwaves, or use a threshold relevant for a marine species of interest."
   ]
  },
  {
   "cell_type": "code",
   "execution_count": null,
   "metadata": {},
   "outputs": [],
   "source": [
    "# Import libraries\n",
    "import warnings  # this library helps to make your code execution less messy\n",
    "\n",
    "warnings.simplefilter(\"ignore\")  # filter some warning messages\n",
    "import dask\n",
    "import fsspec  # these libraries help reading cloud data\n",
    "import hvplot.pandas  # this library helps to make interactive plots\n",
    "import hvplot.xarray\n",
    "import matplotlib.pyplot as plt\n",
    "import numpy as np\n",
    "import pandas as pd\n",
    "import s3fs\n",
    "import xarray as xr\n",
    "from dask.distributed import Client, performance_report, progress\n",
    "\n",
    "xr.set_options(keep_attrs=True)"
   ]
  },
  {
   "cell_type": "code",
   "execution_count": null,
   "metadata": {},
   "outputs": [],
   "source": [
    "# Input parameters\n",
    "# Select either a range of lat/lon or a point. If a point, set both entries to the same value\n",
    "latr = [\n",
    "    19,\n",
    "    20,\n",
    "]  # make sure lat1 > lat2 since no test is done below to simplify the code\n",
    "lonr = [-158, -157]  # lon1 > lon2, range -180:180. resolution daily 1km!\n",
    "# time range. data range available: 2002-06-01 to 2020-01-20. [start with a short period]\n",
    "dater = [\"2012-01-01\", \"2019-12-31\"]  # dates on the format 'YYYY-MM-DD' as string"
   ]
  },
  {
   "cell_type": "markdown",
   "metadata": {},
   "source": [
    "***\n",
    "## We are going to use the Multi-Scale Ultra High Resolution (MUR) Sea Surface Temperature (SST) data set\n",
    "### Stored the Amazon (AWS) Cloud. For more info and links to the data detail and examples, see: https://registry.opendata.aws/mur/\n",
    "\n",
    "This dataset is stored in 'zarr' format, which is an optimized format for the large datasets and the cloud. It is not stored as one 'image' at a time or a gigantic netcdf file, but in 'chunks', so it is perfect for extracting time series.\n",
    "\n",
    "First, we open the dataset and explore it, but we are not downloading it yet."
   ]
  },
  {
   "cell_type": "code",
   "execution_count": null,
   "metadata": {},
   "outputs": [],
   "source": [
    "# first determine the file name using:\n",
    "# the s3 bucket [mur-sst], and the region [us-west-2], and the folder if applicable [zarr-v1]\n",
    "file_location = \"https://mur-sst.s3.us-west-2.amazonaws.com/zarr-v1\"\n",
    "\n",
    "# open a zarr file using xarray, similar to open_dataset but only reads the metadata\n",
    "ds_sst = xr.open_zarr(file_location, consolidated=True)\n",
    "\n",
    "# look at the datarray structure, description and attributes\n",
    "ds_sst\n",
    "# click on the page icon on the far right of each varraible/coordinate for information"
   ]
  },
  {
   "cell_type": "markdown",
   "metadata": {},
   "source": [
    "## Now that we know what the file contains, we select our data (region and time), operate on it if needed (if a region, average), and download only that data \n",
    "It takes a while, given the high resolution of the data. So, be patient.... and if you're only testing, might want to choose a small region and a short time period first. "
   ]
  },
  {
   "cell_type": "code",
   "execution_count": null,
   "metadata": {},
   "outputs": [],
   "source": [
    "sst = (\n",
    "    ds_sst[\"analysed_sst\"]\n",
    "    .sel(\n",
    "        time=slice(dater[0], dater[1]),\n",
    "        lat=slice(latr[0], latr[1]),\n",
    "        lon=slice(lonr[0], lonr[1]),\n",
    "    )\n",
    "    .mean(dim={\"lat\", \"lon\"}, skipna=True)\n",
    ")  # .load() # skip 'not a number' values and keep attributes\n",
    "sst"
   ]
  },
  {
   "cell_type": "code",
   "execution_count": null,
   "metadata": {},
   "outputs": [],
   "source": [
    "# decide if a point or a region was given.\n",
    "if (latr[0] == latr[1]) | (lonr[0] == lonr[1]):  # If we give it only one point\n",
    "    sst = (\n",
    "        ds_sst[\"analysed_sst\"]\n",
    "        .sel(time=slice(dater[0], dater[1]), lat=latr[0], lon=lonr[0])\n",
    "        .load()\n",
    "    )\n",
    "else:  # if we give it an area, it extract the area and average SST over the area and returns a time series of SST\n",
    "    sst = (\n",
    "        ds_sst[\"analysed_sst\"]\n",
    "        .sel(\n",
    "            time=slice(dater[0], dater[1]),\n",
    "            lat=slice(latr[0], latr[1]),\n",
    "            lon=slice(lonr[0], lonr[1]),\n",
    "        )\n",
    "        .mean(dim={\"lat\", \"lon\"}, skipna=True)\n",
    "        .load()\n",
    "    )  # skip 'not a number' values\n",
    "\n",
    "sst = sst - 273.15  # transform Kelving to degrees Celsius\n",
    "sst.attrs[\"units\"] = \"celsius\"  # don't forget to reset attributes to new units\n",
    "\n",
    "sst.to_netcdf(\n",
    "    \"sst_example.nc\"\n",
    ")  # we are saving the data. if we need to come back to analyze the same data, we do not have to acquire it again from the cloud.\n",
    "sst  # take a peak"
   ]
  },
  {
   "cell_type": "markdown",
   "metadata": {},
   "source": [
    "***\n",
    "### *Execute the next cell only if your reading the data from a file - either no access to cloud, or not want to keep reading from it. Skip otherwise. (No problem if you executed it by mistake).*"
   ]
  },
  {
   "cell_type": "code",
   "execution_count": null,
   "metadata": {},
   "outputs": [],
   "source": [
    "sst = xr.open_dataset(\"./sst_example.nc\")  # read a netcdf\n",
    "sst.close()\n",
    "sst = sst.analysed_sst  # sst has the same info downloaded above"
   ]
  },
  {
   "cell_type": "markdown",
   "metadata": {},
   "source": [
    "***\n",
    "## Let's plot the data using two different libraries.\n",
    "#### - `matplotlib` that we already learn. It makes static and very nice figures that can be customized.\n",
    "#### - `hovplot` is a more interactive library for web display. it provides you with the data details when you hover your cursor over the figure. Very nice for inspecting the data."
   ]
  },
  {
   "cell_type": "code",
   "execution_count": null,
   "metadata": {},
   "outputs": [],
   "source": [
    "# matplotlib method#\n",
    "print(\"matplotlib\")\n",
    "sst.plot()  # this is all you need\n",
    "\n",
    "# all the stuff here to make it look nice. try commenting them out\n",
    "plt.xlabel(\"Year\")\n",
    "plt.title(\"Location: \" + str(latr) + \"$^\\circ$N, \" + str(lonr) + \"$^\\circ$W\")\n",
    "plt.grid(True, alpha=0.3)\n",
    "plt.show()\n",
    "\n",
    "# hovplot method #\n",
    "print(\"hovplot\")\n",
    "df = pd.DataFrame(data=sst.data, index=sst.time.data, columns=[\"SST (C)\"])\n",
    "df.index.name = \"Date\"\n",
    "df.hvplot(grid=True)"
   ]
  },
  {
   "cell_type": "markdown",
   "metadata": {},
   "source": [
    "***\n",
    "## Now, let's analyze our data.\n",
    "#### First, the a basic climatology and anomalies, and plotting using `hovplot`."
   ]
  },
  {
   "cell_type": "code",
   "execution_count": null,
   "metadata": {},
   "outputs": [],
   "source": [
    "# Calculate the climatology\n",
    "sst_climatology = sst.groupby(\"time.dayofyear\").mean(\"time\", skipna=False)  # Group by day, all years. skipna ignore missing values (NaN=Not a Number)\n",
    "sst_climstd = sst.groupby(\"time.dayofyear\").std(\"time\", skipna=False)  # Calculate standard deviation.\n",
    "\n",
    "# Creates a pandas dataframe (a table-like structure) to plot easily using hvplot.\n",
    "df = pd.DataFrame(    data=sst_climatology.data, index=sst_climatology.dayofyear.data, columns=[\"SST (C)\"])\n",
    "df[\"+Std\"] = (    sst_climstd.data + sst_climatology.data)  # add standard deviation time series +/-\n",
    "df[\"-Std\"] = -sst_climstd.data + sst_climatology.data\n",
    "df.index.name = \"Day of Year\"\n",
    "df.hvplot(    color=[\"k\", \"grey\", \"grey\"], grid=True, title=\"SST Climatology\")  # plot the climatology (black, and the standard deviation in grey)"
   ]
  },
  {
   "cell_type": "code",
   "execution_count": null,
   "metadata": {},
   "outputs": [],
   "source": [
    "# Calculate the anomalies\n",
    "sst_anomaly = sst.groupby(\"time.dayofyear\") - sst_climatology\n",
    "sst_anomaly_monthly = sst_anomaly.resample(time=\"1MS\", loffset=\"15D\").mean(    skipna=False)  # calculate monthly anomalies/smoothing\n",
    "\n",
    "# Make a pandas dataframe for easy plotting with hvplot\n",
    "df2 = pd.DataFrame(data=sst_anomaly.data, index=sst.time.data, columns=[\"SSTa (C)\"])\n",
    "\n",
    "df2.index.name = \"Date\"\n",
    "df2.hvplot.area(x=\"Date\", y=\"SSTa (C)\", grid=True, title=\"SST Anomalies\")"
   ]
  },
  {
   "cell_type": "markdown",
   "metadata": {},
   "source": [
    "***\n",
    "## We analyze the data further by choosing a threshold.\n",
    "\n",
    "- One way is to set a threshold that has some relevance.  For example, a thermal threshold for a marine species we are studying. \n",
    "\n",
    "- Another way is choosing the maximum value in the climatology (mean value + 1 standard deviation), which we can calculate or read by hovering our cursor over the climatology plot above.\n",
    "\n",
    "### Once the threshold is choosen, we identify when SST is over that threshold, and count how many days that occurred each year"
   ]
  },
  {
   "cell_type": "code",
   "execution_count": null,
   "metadata": {},
   "outputs": [],
   "source": [
    "# first, we define a function that take a threshold value, and analyze and plot our data\n",
    "def SST_above(thr):\n",
    "\n",
    "    # first part - values above threshold\n",
    "    # first plot the timeseries\n",
    "    plt.figure(figsize=(8, 4))\n",
    "    plt.plot(sst.time, sst.data, lw=1)\n",
    "    a = (\n",
    "        sst >= thr\n",
    "    )  # test when data is equal or greater than the threshold. a is a logical array (True/False values)\n",
    "    plt.plot(\n",
    "        sst.time[a], sst.data[a], \".r\", markersize=3\n",
    "    )  # plot only the values equal or above threshold\n",
    "    # all stuff here to make it look good\n",
    "    plt.ylabel(\"SST ($^\\circ$C)\")\n",
    "    plt.xlabel(\"Year\")\n",
    "    plt.title(\"Location: \" + str(latr) + \"$^\\circ$N, \" + str(lonr) + \"$^\\circ$W\")\n",
    "    plt.grid(True, alpha=0.3)\n",
    "    plt.show()  # display and finaiize this figure, so the next is not overwritten\n",
    "\n",
    "    # second part - days per year above threshold\n",
    "    dts = sst[sst >= thr].time  # select dates when SST is equal or greater than the threshold. note that this time is not a logical array, but the time values\n",
    "    hot_days = dts.groupby(\"time.year\").count()  # agregate by year, by counting\n",
    "    plt.bar(hot_days.year, hot_days)  # bar plot of days per year\n",
    "    plt.xlim(int(dater[0][:4]), int(dater[1][:4]) + 1)  # make it nice\n",
    "    plt.ylabel(\"No. days above \" + str(np.round(thr, 1)) + \"C\")\n",
    "    plt.grid(True, alpha=0.3)\n",
    "    plt.show()  # display\n",
    "\n",
    "\n",
    "## Second, the actual analuysis: two examples ##\n",
    "### Maximum climatology threshold\n",
    "thr = df[\"+Std\"].max()  # setting threshold as maximum climatological value: mean + 1 standard deviation\n",
    "print(\"Max climatological SST = \", np.round(thr, 1), \"C\")\n",
    "SST_above(thr)  # Call function we defined\n",
    "\n",
    "### A relevant threshold.\n",
    "# For example, for hawaii (the select region), 28C is a relevant threshold for coral bleaching (https://coralreefwatch.noaa.gov/product/5km/tutorial/crw08a_bleaching_threshold.php)\n",
    "thr = 28\n",
    "print(\"\\n\\nBiologically relevant SST = \", thr, \"C\")\n",
    "SST_above(thr)  # Call function"
   ]
  },
  {
   "cell_type": "markdown",
   "metadata": {},
   "source": [
    "***\n",
    "#### Now, a different analsys of anomalously warm SST days. \n",
    "## Marine heatwaves\n",
    "Defined as any period with SST anomalies above the threshold set by the 90th percentile value of a given period SST anomalies - in this case our data time period."
   ]
  },
  {
   "cell_type": "code",
   "execution_count": null,
   "metadata": {},
   "outputs": [],
   "source": [
    "# First, calculate the threshold: 90th percentile\n",
    "thr = np.percentile(sst_anomaly, 90)\n",
    "\n",
    "# Same plot as in our function above, but this time we are plotting the anomalies.\n",
    "plt.figure(figsize=(8, 4))\n",
    "plt.plot(sst_anomaly.time, sst_anomaly.data, lw=1)\n",
    "plt.axhline(y=0, c=\"k\", zorder=0, alpha=0.5)  # add a line to highlight the x axis\n",
    "\n",
    "a = sst_anomaly >= thr  # select data above the threshold\n",
    "plt.plot(sst_anomaly.time[a], sst_anomaly.data[a], \".r\", markersize=3)\n",
    "# all stuff here to make it look good\n",
    "plt.ylabel(\"SST anomalies ($^\\circ$C)\")\n",
    "plt.xlabel(\"Year\")\n",
    "plt.title(\"Location: \" + str(latr) + \"$^\\circ$N, \" + str(lonr) + \"$^\\circ$W\")\n",
    "plt.grid(True, alpha=0.3)\n",
    "plt.show()\n",
    "\n",
    "# Now plot on the original data (not anomalies)\n",
    "plt.figure(figsize=(8, 4))\n",
    "plt.plot(sst.time, sst.data, lw=1)\n",
    "plt.plot(\n",
    "    sst.time[a], sst.data[a], \".r\", markersize=3\n",
    ")  # plot only the values equal or above threshold\n",
    "# all stuff here to make it look good\n",
    "plt.ylabel(\"SST ($^\\circ$C)\")\n",
    "plt.xlabel(\"Year\")\n",
    "plt.title(\"Location: \" + str(latr) + \"$^\\circ$N, \" + str(lonr) + \"$^\\circ$W\")\n",
    "plt.grid(True, alpha=0.3)\n",
    "plt.show()\n",
    "\n",
    "# Plot of marine heatwave days  per year\n",
    "dts = sst_anomaly[sst_anomaly >= thr].time\n",
    "mhw = dts.groupby(\"time.year\").count()\n",
    "plt.bar(mhw.year, mhw)\n",
    "plt.ylabel(\"No. days SSTa > \" + str(np.round(thr, 1)) + \"C\")\n",
    "plt.grid(True, alpha=0.3)\n",
    "plt.show()\n",
    "\n",
    "mhw  # print the numbers of days"
   ]
  },
  {
   "cell_type": "markdown",
   "metadata": {},
   "source": [
    "***\n",
    "## Finally, let's explore the SST field around our selected point or region durring the warmest day or coldest day."
   ]
  },
  {
   "cell_type": "code",
   "execution_count": null,
   "metadata": {},
   "outputs": [],
   "source": [
    "# Find out max and min SST values and the date when they occur\n",
    "minv = sst.min()  # find mininum SST value\n",
    "mindate = sst[sst == minv].time.data  # find when this min value occurred\n",
    "maxv = sst.max()  # find maximum SST value\n",
    "maxdate = sst[sst == maxv].time.data  # find when the max value occurred"
   ]
  },
  {
   "cell_type": "code",
   "execution_count": null,
   "metadata": {},
   "outputs": [],
   "source": [
    "# define a function that go back to the SST data in the cloud, but we now load a different subset\n",
    "# an specific day, but now always a region: the region selected or a region around the selected point\n",
    "def select_area(day):  # the function input is a day\n",
    "    if (latr[0] == latr[1]) | (lonr[0] == lonr[1]):  # if input data was one point\n",
    "        sst2 = ds_sst.sel(\n",
    "            time=day, lat=slice(latr - 2, latr + 2), lon=slice(lonr - 2, lonr + 2)\n",
    "        ).load()\n",
    "    else:  # if input data was a region\n",
    "        sst2 = ds_sst.sel(\n",
    "            time=day, lat=slice(latr[0], latr[1]), lon=slice(lonr[0], lonr[1])\n",
    "        ).load()\n",
    "    sst3 = sst2[\"analysed_sst\"] - 273.15\n",
    "    mask = sst2[\"mask\"].where(sst2[\"mask\"] < 2)\n",
    "    sst3 = sst3 * mask\n",
    "    return sst3  # returns the data array of the region at the given date (the region is the defined at the beginning of the script)"
   ]
  },
  {
   "cell_type": "code",
   "execution_count": null,
   "metadata": {},
   "outputs": [],
   "source": [
    "# plot warmest day\n",
    "msst = select_area(maxdate)  # call function with day of warmest SST\n",
    "msst.hvplot.quadmesh(\n",
    "    x=\"lon\",\n",
    "    y=\"lat\",\n",
    "    coastline=True,\n",
    "    clabel=\"T [C]\",\n",
    "    cmap=\"coolwarm\",\n",
    "    title=str(maxdate[0])[:10],\n",
    ")\n",
    "# this image plot also gives you extra information when you hover your cursor around"
   ]
  },
  {
   "cell_type": "code",
   "execution_count": null,
   "metadata": {},
   "outputs": [],
   "source": [
    "# plot coolest day\n",
    "msst = select_area(mindate)  # call function with day of coolest SST\n",
    "msst.hvplot.quadmesh(\n",
    "    x=\"lon\",\n",
    "    y=\"lat\",\n",
    "    coastline=True,\n",
    "    clabel=\"T [C]\",\n",
    "    cmap=\"coolwarm\",\n",
    "    title=str(mindate[0])[:10],\n",
    ")"
   ]
  },
  {
   "cell_type": "markdown",
   "metadata": {},
   "source": [
    "***\n",
    "# Resources\n",
    "\n",
    "For the cloud and data in the cloud, see resources listed in Chapter 5.\n",
    "\n",
    "Resources specifically for this chapter:\n",
    "- [MUR SST Data](https://registry.opendata.aws/mur/). SST data in the cloud, with references the official datta website, examples and other resources.\n",
    "- [Pangeo OSM2020 Tutorial](https://github.com/pangeo-gallery/osm2020tutorial). This is a very good tutorial for ocean application and cloud computing. Plenty of examples. Many of the commands here are from this tutorial.\n",
    "\n",
    "### About MHW\n",
    "\n",
    "- [Marine heatwaves](http://www.marineheatwaves.org/all-about-mhws.html). A good place to begin to get info about the subject.\n",
    "- [Marine heatwaves code](https://github.com/ecjoliver/marineHeatWaves). Marine heatwaves code from E. Oliver. \n",
    "\n",
    "### If you want to learn more:\n",
    "- [Methods for accessing a AWS bucket](https://docs.aws.amazon.com/AmazonS3/latest/userguide/access-bucket-intro.html). Bucket is the name of the cloud storage object. S3 stands for Amazon's Simple Storage Service.\n",
    "- [hvplot site](https://hvplot.holoviz.org/index.html). Plotting tool used here.\n",
    "- [zarr](https://zarr.readthedocs.io/en/stable/) Big data storage formatt\n"
   ]
  },
  {
   "cell_type": "code",
   "execution_count": null,
   "metadata": {},
   "outputs": [],
   "source": []
  }
 ],
 "metadata": {
  "kernelspec": {
   "display_name": "Python 3",
   "language": "python",
   "name": "python3"
  },
  "language_info": {
   "codemirror_mode": {
    "name": "ipython",
    "version": 3
   },
   "file_extension": ".py",
   "mimetype": "text/x-python",
   "name": "python",
   "nbconvert_exporter": "python",
   "pygments_lexer": "ipython3",
   "version": "3.7.10"
  }
 },
 "nbformat": 4,
 "nbformat_minor": 4
}
