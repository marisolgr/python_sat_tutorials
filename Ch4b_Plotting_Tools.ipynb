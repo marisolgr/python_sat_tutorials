{
 "cells": [
  {
   "cell_type": "markdown",
   "metadata": {},
   "source": [
    "# Chapter 4b - Plotting Tools\n",
    "\n",
    "In this chapter we will learn to visualize data beyond a quick plot as in the previous chapter. We will present two examples (a time series plot and a map) using the libraries __matplotlib__ and __cartopy__. \n",
    "\n",
    "***\n",
    "\n",
    "Let's start by importing the pertinent libraries."
   ]
  },
  {
   "cell_type": "code",
   "execution_count": null,
   "metadata": {},
   "outputs": [],
   "source": [
    "# basic libraries\n",
    "import warnings\n",
    "\n",
    "import cartopy.crs as ccrs\n",
    "\n",
    "# necesary libraries for plotting\n",
    "import matplotlib.pyplot as plt  # note that in both cases we import one object within the library\n",
    "import numpy as np\n",
    "import pandas as pd\n",
    "import xarray as xr\n",
    "\n",
    "xr.set_options(keep_attrs=True)\n",
    "warnings.simplefilter(\"ignore\")  # filter some warning messages"
   ]
  },
  {
   "cell_type": "markdown",
   "metadata": {},
   "source": [
    "## Plot SST anomaly timeseries\n",
    "\n",
    "We will use the same data from the previous chapter to calculate and plot global sea surface temperature anomalies from the Hadley dataset. And we will also calculate the climatology and anomalies of monthly data to show a slightly more complicated plot, illustrating some of the __xarray__ methods. __Run the next cell.__"
   ]
  },
  {
   "cell_type": "code",
   "execution_count": null,
   "metadata": {},
   "outputs": [],
   "source": [
    "# open the dataset\n",
    "ds = xr.open_dataset(\"./data/HadISST_sst_2000-2020.nc\")  # read a netcdf\n",
    "ds.close()  # close the file, so can be use by you or others. it is good practice.\n",
    "\n",
    "# select north and southern hemispheres, and average spatially to obtain a time series\n",
    "nh_sst = ds.sst.sel(latitude=slice(90, 0)).mean(dim=[\"latitude\", \"longitude\"])\n",
    "sh_sst = ds.sst.sel(latitude=slice(0, -90)).mean(dim=[\"latitude\", \"longitude\"])\n",
    "\n",
    "# calculate climatology\n",
    "nh_clim = nh_sst.groupby(\"time.month\").mean(\n",
    "    \"time\"\n",
    ")  # note the application of two methods, first groupby, and then the operation to perform over the group\n",
    "# calculate and explore the anomalies\n",
    "nh_ssta = (\n",
    "    nh_sst.groupby(\"time.month\") - nh_clim\n",
    ")  # in this case groupby 'aligns' the data with the climatology, but only substract the appropiate climatology data point\n",
    "nh_ssta  # Note that the new dataarray (one variable) has a new coordinate, but not dimension"
   ]
  },
  {
   "cell_type": "markdown",
   "metadata": {},
   "source": [
    "### The actual plotting of the data\n",
    "    \n",
    "Making a simple plot using __matplotlib__ might seem like too much code, since there are many parameters to customize. However, it comes in handy for more complicated plots. __In the next cell__ we introduce some of the basic methods in a plot of the hemispheric averages calculated:\n",
    "- Defining a figure and its size\n",
    "- The function __plot__\n",
    "- How to add labels and legend\n",
    "- And how to display and 'finalize' a plot"
   ]
  },
  {
   "cell_type": "code",
   "execution_count": null,
   "metadata": {},
   "outputs": [],
   "source": [
    "plt.figure(figsize=(10, 4))\n",
    "plt.plot(\n",
    "    nh_sst.time, nh_sst, \".-\", label=\"NH\"\n",
    ")  # the basic method plot() is used for line plots.\n",
    "plt.plot(sh_sst.time, sh_sst, \"+-\", c=\"tab:orange\", label=\"SH\")\n",
    "plt.grid(True)\n",
    "plt.legend(loc=0)\n",
    "plt.ylabel(\"SST (C)\", fontsize=14)\n",
    "plt.xlabel(\"Time (year)\", fontsize=14)\n",
    "plt.title(\"Monthly Hemisphheric SST\", fontsize=16)\n",
    "plt.show()  # note that we didn't use this before, but it a necesary line to finalize and properly display a figure"
   ]
  },
  {
   "cell_type": "markdown",
   "metadata": {},
   "source": [
    "__In the next cell__ we plot the anomalies calculated, separating with color the positive and negative values. This is a more complicated plot that requires operating over the data first (using the method `.where`), but the plotting part is straight forward."
   ]
  },
  {
   "cell_type": "code",
   "execution_count": null,
   "metadata": {},
   "outputs": [],
   "source": [
    "plt.figure(figsize=(12, 4))\n",
    "pos = nh_ssta.where(nh_ssta >= 0)  # select only positive values\n",
    "neg = nh_ssta.where(nh_ssta < 0)  # select only negative values\n",
    "dates = (\n",
    "    nh_ssta.time.dt.year + (nh_ssta.time.dt.month - 1) / 12\n",
    ")  # make a list of time steps using year and month\n",
    "plt.bar(\n",
    "    dates, pos.values, width=1 / 13, color=\"tab:red\", edgecolor=None\n",
    ")  # plot positive values\n",
    "plt.bar(dates, neg.values, width=1 / 13, color=\"tab:blue\")  # plot negative values\n",
    "plt.axhline(color=\"grey\")  # plot a grey horizontal line at y=0\n",
    "plt.grid(True, zorder=0)\n",
    "plt.ylabel(\"SST anomalies (C)\")\n",
    "plt.xlabel(\"Time (year)\", fontsize=14)\n",
    "plt.title(\"Northern Hemisphere SST anomalies\")\n",
    "plt.xticks([*range(2000, 2021, 1)], rotation=40)\n",
    "plt.autoscale(enable=True, axis=\"x\", tight=True)\n",
    "plt.show()"
   ]
  },
  {
   "cell_type": "markdown",
   "metadata": {},
   "source": [
    "***\n",
    "## Map plotting\n",
    "\n",
    "Now we will customize our maps. While the quick plot method from __xarray__ is all we need in many cases, sometimes we require a more customized or nicer image for a presentation or publication. Here we illustrate this, since we will use it in the next chapters. It might seem like complicated code, but really there are many elements that could be left to the default values, and we wanted to show how to customize some of them.\n",
    "\n",
    "For global plots, the extent and the coordinate labels are sometimes not necessary to define, but we choose a regional plot for the next example to show how to customize these parameters. \n",
    "\n",
    "__Note__ that in the next to last line, we will also save our figure. We still use the _.show()_ method in last line to display it."
   ]
  },
  {
   "cell_type": "code",
   "execution_count": null,
   "metadata": {},
   "outputs": [],
   "source": [
    "# import functions to label coordinates and add color to the land mass (otherwise is white)\n",
    "import calendar  # this library give us quick access to names and numbers related to dates\n",
    "\n",
    "import cartopy.feature as cfeature\n",
    "from cartopy.mpl.ticker import LatitudeFormatter, LongitudeFormatter\n",
    "\n",
    "# select a region of our data\n",
    "region = np.array(\n",
    "    [[30, -40], [25, 120]]\n",
    ")  # numpy array that specifies the lat/lon boundaries of our selected region\n",
    "io_sst = ds.sst.sel(\n",
    "    latitude=slice(region[0, 0], region[0, 1]),\n",
    "    longitude=slice(region[1, 0], region[1, 1]),\n",
    ")  # select region\n",
    "\n",
    "for mon in [1, 7]:  # select two months of data to plot: month 1 and month 7\n",
    "    moname = calendar.month_name[mon]  # get the name of the month\n",
    "    tmp = io_sst.sel(time=ds.time.dt.month == mon).mean(\n",
    "        \"time\"\n",
    "    )  # select only one monthh at a time in a temporal object\n",
    "\n",
    "    # create and set the figure context\n",
    "    fig = plt.figure(\n",
    "        figsize=(8, 5)\n",
    "    )  # create a figure object, and assign it a variable name fig\n",
    "    ax = plt.axes(\n",
    "        projection=ccrs.PlateCarree()\n",
    "    )  # projection type - this one is easy to use\n",
    "    ax.coastlines(resolution=\"50m\", linewidth=2, color=\"black\")\n",
    "    ax.add_feature(cfeature.LAND, color=\"black\")\n",
    "    ax.set_extent(\n",
    "        [region[1, 0], region[1, 1], region[0, 0], region[0, 1]], crs=ccrs.PlateCarree()\n",
    "    )\n",
    "    ax.set_xticks(\n",
    "        [*range(region[1, 0], region[1, 1] + 1, 20)], crs=ccrs.PlateCarree()\n",
    "    )  # customize ticks and labels to longitude\n",
    "    ax.set_yticks(\n",
    "        [*range(region[0, 1], region[0, 0] + 1, 10)], crs=ccrs.PlateCarree()\n",
    "    )  # customize ticks and labels to latitude\n",
    "    ax.xaxis.set_major_formatter(LongitudeFormatter(zero_direction_label=True))\n",
    "    ax.yaxis.set_major_formatter(LatitudeFormatter())\n",
    "    plt.grid(\n",
    "        True, alpha=0.5\n",
    "    )  # add a grid. the alpha argument specify the level of transparency of a plot figure\n",
    "\n",
    "    # the core: the data to plot\n",
    "    plt.contourf(\n",
    "        tmp.longitude, tmp.latitude, tmp, 15, cmap=\"RdYlBu_r\"\n",
    "    )  # contourf (filled contour plot) takes the 1D lat and lon coordinates for the 2D data. cmap specify the colormap to use.\n",
    "    cbar = plt.colorbar()\n",
    "    cbar.set_label(\"SST (C)\")  # color bar label\n",
    "    plt.title(moname + \" SST (2000-2020)\")\n",
    "    fig.savefig(\n",
    "        \"./figures/map_base_\" + moname + \".png\"\n",
    "    )  # save your figure by usinig the method .savefig. python recognized the format from the filename extension.\n",
    "    plt.show()"
   ]
  },
  {
   "cell_type": "markdown",
   "metadata": {},
   "source": [
    "***\n",
    "### And that's it. Now you're ready to go over the application chapters and follow the code. Also you should be able to edit it and get your own results!\n",
    "\n",
    "***\n",
    "## Resources\n",
    "\n",
    "[The Official __Matplotlib__ site](https://matplotlib.org/) \n",
    "\n",
    "Make sure to look at their [gallery](https://matplotlib.org/stable/gallery/index.html), which contains the code for each plot\n",
    "\n",
    "A very simple, step by step [tutorial](https://github.com/rougier/matplotlib-tutorial) to matplotlib\n",
    "\n",
    "[The Official __Cartopy__ -  site](https://scitools.org.uk/cartopy/docs/latest/), and [gallery](https://scitools.org.uk/cartopy/docs/latest/gallery/index.html)\n",
    "\n",
    "R. Abernathey's [tutorial](https://rabernat.github.io/research_computing_2018/maps-with-cartopy.html) to Cartopy - Step by Step and very accessible\n",
    "\n",
    "[__Seaborn__](https://seaborn.pydata.org/index.html) - We didn't talk about Seaborn, but it is a very nice library with beatiful and well designed functions for statistical data visualization. Make sure you take a look at their gallery\n",
    "\n",
    "[The offical __Groupby__ reference](http://xarray.pydata.org/en/stable/groupby.html)\n",
    "\n",
    "The __xarray__ page also have some useful examples for [weather](http://xarray.pydata.org/en/stable/examples/weather-data.html) and [climate](http://xarray.pydata.org/en/stable/examples/monthly-means.html) data that applies the methods (and more) used here.\n"
   ]
  },
  {
   "cell_type": "code",
   "execution_count": null,
   "metadata": {},
   "outputs": [],
   "source": []
  }
 ],
 "metadata": {
  "kernelspec": {
   "display_name": "Python 3",
   "language": "python",
   "name": "python3"
  },
  "language_info": {
   "codemirror_mode": {
    "name": "ipython",
    "version": 3
   },
   "file_extension": ".py",
   "mimetype": "text/x-python",
   "name": "python",
   "nbconvert_exporter": "python",
   "pygments_lexer": "ipython3",
   "version": "3.7.10"
  }
 },
 "nbformat": 4,
 "nbformat_minor": 4
}
